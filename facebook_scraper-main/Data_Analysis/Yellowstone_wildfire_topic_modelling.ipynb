{
  "nbformat": 4,
  "nbformat_minor": 0,
  "metadata": {
    "colab": {
      "provenance": []
    },
    "kernelspec": {
      "name": "python3",
      "display_name": "Python 3"
    },
    "language_info": {
      "name": "python"
    }
  },
  "cells": [
    {
      "cell_type": "code",
      "execution_count": 38,
      "metadata": {
        "colab": {
          "base_uri": "https://localhost:8080/"
        },
        "id": "x3AKaiKjqY29",
        "outputId": "062fbebb-2208-4ae1-a28f-745e1018385f"
      },
      "outputs": [
        {
          "output_type": "stream",
          "name": "stderr",
          "text": [
            "[nltk_data] Downloading collection 'all'\n",
            "[nltk_data]    | \n",
            "[nltk_data]    | Downloading package abc to /root/nltk_data...\n",
            "[nltk_data]    |   Package abc is already up-to-date!\n",
            "[nltk_data]    | Downloading package alpino to /root/nltk_data...\n",
            "[nltk_data]    |   Package alpino is already up-to-date!\n",
            "[nltk_data]    | Downloading package averaged_perceptron_tagger to\n",
            "[nltk_data]    |     /root/nltk_data...\n",
            "[nltk_data]    |   Package averaged_perceptron_tagger is already up-\n",
            "[nltk_data]    |       to-date!\n",
            "[nltk_data]    | Downloading package averaged_perceptron_tagger_ru to\n",
            "[nltk_data]    |     /root/nltk_data...\n",
            "[nltk_data]    |   Package averaged_perceptron_tagger_ru is already\n",
            "[nltk_data]    |       up-to-date!\n",
            "[nltk_data]    | Downloading package basque_grammars to\n",
            "[nltk_data]    |     /root/nltk_data...\n",
            "[nltk_data]    |   Package basque_grammars is already up-to-date!\n",
            "[nltk_data]    | Downloading package bcp47 to /root/nltk_data...\n",
            "[nltk_data]    |   Package bcp47 is already up-to-date!\n",
            "[nltk_data]    | Downloading package biocreative_ppi to\n",
            "[nltk_data]    |     /root/nltk_data...\n",
            "[nltk_data]    |   Package biocreative_ppi is already up-to-date!\n",
            "[nltk_data]    | Downloading package bllip_wsj_no_aux to\n",
            "[nltk_data]    |     /root/nltk_data...\n",
            "[nltk_data]    |   Package bllip_wsj_no_aux is already up-to-date!\n",
            "[nltk_data]    | Downloading package book_grammars to\n",
            "[nltk_data]    |     /root/nltk_data...\n",
            "[nltk_data]    |   Package book_grammars is already up-to-date!\n",
            "[nltk_data]    | Downloading package brown to /root/nltk_data...\n",
            "[nltk_data]    |   Package brown is already up-to-date!\n",
            "[nltk_data]    | Downloading package brown_tei to /root/nltk_data...\n",
            "[nltk_data]    |   Package brown_tei is already up-to-date!\n",
            "[nltk_data]    | Downloading package cess_cat to /root/nltk_data...\n",
            "[nltk_data]    |   Package cess_cat is already up-to-date!\n",
            "[nltk_data]    | Downloading package cess_esp to /root/nltk_data...\n",
            "[nltk_data]    |   Package cess_esp is already up-to-date!\n",
            "[nltk_data]    | Downloading package chat80 to /root/nltk_data...\n",
            "[nltk_data]    |   Package chat80 is already up-to-date!\n",
            "[nltk_data]    | Downloading package city_database to\n",
            "[nltk_data]    |     /root/nltk_data...\n",
            "[nltk_data]    |   Package city_database is already up-to-date!\n",
            "[nltk_data]    | Downloading package cmudict to /root/nltk_data...\n",
            "[nltk_data]    |   Package cmudict is already up-to-date!\n",
            "[nltk_data]    | Downloading package comparative_sentences to\n",
            "[nltk_data]    |     /root/nltk_data...\n",
            "[nltk_data]    |   Package comparative_sentences is already up-to-\n",
            "[nltk_data]    |       date!\n",
            "[nltk_data]    | Downloading package comtrans to /root/nltk_data...\n",
            "[nltk_data]    |   Package comtrans is already up-to-date!\n",
            "[nltk_data]    | Downloading package conll2000 to /root/nltk_data...\n",
            "[nltk_data]    |   Package conll2000 is already up-to-date!\n",
            "[nltk_data]    | Downloading package conll2002 to /root/nltk_data...\n",
            "[nltk_data]    |   Package conll2002 is already up-to-date!\n",
            "[nltk_data]    | Downloading package conll2007 to /root/nltk_data...\n",
            "[nltk_data]    |   Package conll2007 is already up-to-date!\n",
            "[nltk_data]    | Downloading package crubadan to /root/nltk_data...\n",
            "[nltk_data]    |   Package crubadan is already up-to-date!\n",
            "[nltk_data]    | Downloading package dependency_treebank to\n",
            "[nltk_data]    |     /root/nltk_data...\n",
            "[nltk_data]    |   Package dependency_treebank is already up-to-date!\n",
            "[nltk_data]    | Downloading package dolch to /root/nltk_data...\n",
            "[nltk_data]    |   Package dolch is already up-to-date!\n",
            "[nltk_data]    | Downloading package europarl_raw to\n",
            "[nltk_data]    |     /root/nltk_data...\n",
            "[nltk_data]    |   Package europarl_raw is already up-to-date!\n",
            "[nltk_data]    | Downloading package extended_omw to\n",
            "[nltk_data]    |     /root/nltk_data...\n",
            "[nltk_data]    |   Package extended_omw is already up-to-date!\n",
            "[nltk_data]    | Downloading package floresta to /root/nltk_data...\n",
            "[nltk_data]    |   Package floresta is already up-to-date!\n",
            "[nltk_data]    | Downloading package framenet_v15 to\n",
            "[nltk_data]    |     /root/nltk_data...\n",
            "[nltk_data]    |   Package framenet_v15 is already up-to-date!\n",
            "[nltk_data]    | Downloading package framenet_v17 to\n",
            "[nltk_data]    |     /root/nltk_data...\n",
            "[nltk_data]    |   Package framenet_v17 is already up-to-date!\n",
            "[nltk_data]    | Downloading package gazetteers to /root/nltk_data...\n",
            "[nltk_data]    |   Package gazetteers is already up-to-date!\n",
            "[nltk_data]    | Downloading package genesis to /root/nltk_data...\n",
            "[nltk_data]    |   Package genesis is already up-to-date!\n",
            "[nltk_data]    | Downloading package gutenberg to /root/nltk_data...\n",
            "[nltk_data]    |   Package gutenberg is already up-to-date!\n",
            "[nltk_data]    | Downloading package ieer to /root/nltk_data...\n",
            "[nltk_data]    |   Package ieer is already up-to-date!\n",
            "[nltk_data]    | Downloading package inaugural to /root/nltk_data...\n",
            "[nltk_data]    |   Package inaugural is already up-to-date!\n",
            "[nltk_data]    | Downloading package indian to /root/nltk_data...\n",
            "[nltk_data]    |   Package indian is already up-to-date!\n",
            "[nltk_data]    | Downloading package jeita to /root/nltk_data...\n",
            "[nltk_data]    |   Package jeita is already up-to-date!\n",
            "[nltk_data]    | Downloading package kimmo to /root/nltk_data...\n",
            "[nltk_data]    |   Package kimmo is already up-to-date!\n",
            "[nltk_data]    | Downloading package knbc to /root/nltk_data...\n",
            "[nltk_data]    |   Package knbc is already up-to-date!\n",
            "[nltk_data]    | Downloading package large_grammars to\n",
            "[nltk_data]    |     /root/nltk_data...\n",
            "[nltk_data]    |   Package large_grammars is already up-to-date!\n",
            "[nltk_data]    | Downloading package lin_thesaurus to\n",
            "[nltk_data]    |     /root/nltk_data...\n",
            "[nltk_data]    |   Package lin_thesaurus is already up-to-date!\n",
            "[nltk_data]    | Downloading package mac_morpho to /root/nltk_data...\n",
            "[nltk_data]    |   Package mac_morpho is already up-to-date!\n",
            "[nltk_data]    | Downloading package machado to /root/nltk_data...\n",
            "[nltk_data]    |   Package machado is already up-to-date!\n",
            "[nltk_data]    | Downloading package masc_tagged to /root/nltk_data...\n",
            "[nltk_data]    |   Package masc_tagged is already up-to-date!\n",
            "[nltk_data]    | Downloading package maxent_ne_chunker to\n",
            "[nltk_data]    |     /root/nltk_data...\n",
            "[nltk_data]    |   Package maxent_ne_chunker is already up-to-date!\n",
            "[nltk_data]    | Downloading package maxent_treebank_pos_tagger to\n",
            "[nltk_data]    |     /root/nltk_data...\n",
            "[nltk_data]    |   Package maxent_treebank_pos_tagger is already up-\n",
            "[nltk_data]    |       to-date!\n",
            "[nltk_data]    | Downloading package moses_sample to\n",
            "[nltk_data]    |     /root/nltk_data...\n",
            "[nltk_data]    |   Package moses_sample is already up-to-date!\n",
            "[nltk_data]    | Downloading package movie_reviews to\n",
            "[nltk_data]    |     /root/nltk_data...\n",
            "[nltk_data]    |   Package movie_reviews is already up-to-date!\n",
            "[nltk_data]    | Downloading package mte_teip5 to /root/nltk_data...\n",
            "[nltk_data]    |   Package mte_teip5 is already up-to-date!\n",
            "[nltk_data]    | Downloading package mwa_ppdb to /root/nltk_data...\n",
            "[nltk_data]    |   Package mwa_ppdb is already up-to-date!\n",
            "[nltk_data]    | Downloading package names to /root/nltk_data...\n",
            "[nltk_data]    |   Package names is already up-to-date!\n",
            "[nltk_data]    | Downloading package nombank.1.0 to /root/nltk_data...\n",
            "[nltk_data]    |   Package nombank.1.0 is already up-to-date!\n",
            "[nltk_data]    | Downloading package nonbreaking_prefixes to\n",
            "[nltk_data]    |     /root/nltk_data...\n",
            "[nltk_data]    |   Package nonbreaking_prefixes is already up-to-date!\n",
            "[nltk_data]    | Downloading package nps_chat to /root/nltk_data...\n",
            "[nltk_data]    |   Package nps_chat is already up-to-date!\n",
            "[nltk_data]    | Downloading package omw to /root/nltk_data...\n",
            "[nltk_data]    |   Package omw is already up-to-date!\n",
            "[nltk_data]    | Downloading package omw-1.4 to /root/nltk_data...\n",
            "[nltk_data]    |   Package omw-1.4 is already up-to-date!\n",
            "[nltk_data]    | Downloading package opinion_lexicon to\n",
            "[nltk_data]    |     /root/nltk_data...\n",
            "[nltk_data]    |   Package opinion_lexicon is already up-to-date!\n",
            "[nltk_data]    | Downloading package panlex_swadesh to\n",
            "[nltk_data]    |     /root/nltk_data...\n",
            "[nltk_data]    |   Package panlex_swadesh is already up-to-date!\n",
            "[nltk_data]    | Downloading package paradigms to /root/nltk_data...\n",
            "[nltk_data]    |   Package paradigms is already up-to-date!\n",
            "[nltk_data]    | Downloading package pe08 to /root/nltk_data...\n",
            "[nltk_data]    |   Package pe08 is already up-to-date!\n",
            "[nltk_data]    | Downloading package perluniprops to\n",
            "[nltk_data]    |     /root/nltk_data...\n",
            "[nltk_data]    |   Package perluniprops is already up-to-date!\n",
            "[nltk_data]    | Downloading package pil to /root/nltk_data...\n",
            "[nltk_data]    |   Package pil is already up-to-date!\n",
            "[nltk_data]    | Downloading package pl196x to /root/nltk_data...\n",
            "[nltk_data]    |   Package pl196x is already up-to-date!\n",
            "[nltk_data]    | Downloading package porter_test to /root/nltk_data...\n",
            "[nltk_data]    |   Package porter_test is already up-to-date!\n",
            "[nltk_data]    | Downloading package ppattach to /root/nltk_data...\n",
            "[nltk_data]    |   Package ppattach is already up-to-date!\n",
            "[nltk_data]    | Downloading package problem_reports to\n",
            "[nltk_data]    |     /root/nltk_data...\n",
            "[nltk_data]    |   Package problem_reports is already up-to-date!\n",
            "[nltk_data]    | Downloading package product_reviews_1 to\n",
            "[nltk_data]    |     /root/nltk_data...\n",
            "[nltk_data]    |   Package product_reviews_1 is already up-to-date!\n",
            "[nltk_data]    | Downloading package product_reviews_2 to\n",
            "[nltk_data]    |     /root/nltk_data...\n",
            "[nltk_data]    |   Package product_reviews_2 is already up-to-date!\n",
            "[nltk_data]    | Downloading package propbank to /root/nltk_data...\n",
            "[nltk_data]    |   Package propbank is already up-to-date!\n",
            "[nltk_data]    | Downloading package pros_cons to /root/nltk_data...\n",
            "[nltk_data]    |   Package pros_cons is already up-to-date!\n",
            "[nltk_data]    | Downloading package ptb to /root/nltk_data...\n",
            "[nltk_data]    |   Package ptb is already up-to-date!\n",
            "[nltk_data]    | Downloading package punkt to /root/nltk_data...\n",
            "[nltk_data]    |   Package punkt is already up-to-date!\n",
            "[nltk_data]    | Downloading package qc to /root/nltk_data...\n",
            "[nltk_data]    |   Package qc is already up-to-date!\n",
            "[nltk_data]    | Downloading package reuters to /root/nltk_data...\n",
            "[nltk_data]    |   Package reuters is already up-to-date!\n",
            "[nltk_data]    | Downloading package rslp to /root/nltk_data...\n",
            "[nltk_data]    |   Package rslp is already up-to-date!\n",
            "[nltk_data]    | Downloading package rte to /root/nltk_data...\n",
            "[nltk_data]    |   Package rte is already up-to-date!\n",
            "[nltk_data]    | Downloading package sample_grammars to\n",
            "[nltk_data]    |     /root/nltk_data...\n",
            "[nltk_data]    |   Package sample_grammars is already up-to-date!\n",
            "[nltk_data]    | Downloading package semcor to /root/nltk_data...\n",
            "[nltk_data]    |   Package semcor is already up-to-date!\n",
            "[nltk_data]    | Downloading package senseval to /root/nltk_data...\n",
            "[nltk_data]    |   Package senseval is already up-to-date!\n",
            "[nltk_data]    | Downloading package sentence_polarity to\n",
            "[nltk_data]    |     /root/nltk_data...\n",
            "[nltk_data]    |   Package sentence_polarity is already up-to-date!\n",
            "[nltk_data]    | Downloading package sentiwordnet to\n",
            "[nltk_data]    |     /root/nltk_data...\n",
            "[nltk_data]    |   Package sentiwordnet is already up-to-date!\n",
            "[nltk_data]    | Downloading package shakespeare to /root/nltk_data...\n",
            "[nltk_data]    |   Package shakespeare is already up-to-date!\n",
            "[nltk_data]    | Downloading package sinica_treebank to\n",
            "[nltk_data]    |     /root/nltk_data...\n",
            "[nltk_data]    |   Package sinica_treebank is already up-to-date!\n",
            "[nltk_data]    | Downloading package smultron to /root/nltk_data...\n",
            "[nltk_data]    |   Package smultron is already up-to-date!\n",
            "[nltk_data]    | Downloading package snowball_data to\n",
            "[nltk_data]    |     /root/nltk_data...\n",
            "[nltk_data]    |   Package snowball_data is already up-to-date!\n",
            "[nltk_data]    | Downloading package spanish_grammars to\n",
            "[nltk_data]    |     /root/nltk_data...\n",
            "[nltk_data]    |   Package spanish_grammars is already up-to-date!\n",
            "[nltk_data]    | Downloading package state_union to /root/nltk_data...\n",
            "[nltk_data]    |   Package state_union is already up-to-date!\n",
            "[nltk_data]    | Downloading package stopwords to /root/nltk_data...\n",
            "[nltk_data]    |   Package stopwords is already up-to-date!\n",
            "[nltk_data]    | Downloading package subjectivity to\n",
            "[nltk_data]    |     /root/nltk_data...\n",
            "[nltk_data]    |   Package subjectivity is already up-to-date!\n",
            "[nltk_data]    | Downloading package swadesh to /root/nltk_data...\n",
            "[nltk_data]    |   Package swadesh is already up-to-date!\n",
            "[nltk_data]    | Downloading package switchboard to /root/nltk_data...\n",
            "[nltk_data]    |   Package switchboard is already up-to-date!\n",
            "[nltk_data]    | Downloading package tagsets to /root/nltk_data...\n",
            "[nltk_data]    |   Package tagsets is already up-to-date!\n",
            "[nltk_data]    | Downloading package timit to /root/nltk_data...\n",
            "[nltk_data]    |   Package timit is already up-to-date!\n",
            "[nltk_data]    | Downloading package toolbox to /root/nltk_data...\n",
            "[nltk_data]    |   Package toolbox is already up-to-date!\n",
            "[nltk_data]    | Downloading package treebank to /root/nltk_data...\n",
            "[nltk_data]    |   Package treebank is already up-to-date!\n",
            "[nltk_data]    | Downloading package twitter_samples to\n",
            "[nltk_data]    |     /root/nltk_data...\n",
            "[nltk_data]    |   Package twitter_samples is already up-to-date!\n",
            "[nltk_data]    | Downloading package udhr to /root/nltk_data...\n",
            "[nltk_data]    |   Package udhr is already up-to-date!\n",
            "[nltk_data]    | Downloading package udhr2 to /root/nltk_data...\n",
            "[nltk_data]    |   Package udhr2 is already up-to-date!\n",
            "[nltk_data]    | Downloading package unicode_samples to\n",
            "[nltk_data]    |     /root/nltk_data...\n",
            "[nltk_data]    |   Package unicode_samples is already up-to-date!\n",
            "[nltk_data]    | Downloading package universal_tagset to\n",
            "[nltk_data]    |     /root/nltk_data...\n",
            "[nltk_data]    |   Package universal_tagset is already up-to-date!\n",
            "[nltk_data]    | Downloading package universal_treebanks_v20 to\n",
            "[nltk_data]    |     /root/nltk_data...\n",
            "[nltk_data]    |   Package universal_treebanks_v20 is already up-to-\n",
            "[nltk_data]    |       date!\n",
            "[nltk_data]    | Downloading package vader_lexicon to\n",
            "[nltk_data]    |     /root/nltk_data...\n",
            "[nltk_data]    |   Package vader_lexicon is already up-to-date!\n",
            "[nltk_data]    | Downloading package verbnet to /root/nltk_data...\n",
            "[nltk_data]    |   Package verbnet is already up-to-date!\n",
            "[nltk_data]    | Downloading package verbnet3 to /root/nltk_data...\n",
            "[nltk_data]    |   Package verbnet3 is already up-to-date!\n",
            "[nltk_data]    | Downloading package webtext to /root/nltk_data...\n",
            "[nltk_data]    |   Package webtext is already up-to-date!\n",
            "[nltk_data]    | Downloading package wmt15_eval to /root/nltk_data...\n",
            "[nltk_data]    |   Package wmt15_eval is already up-to-date!\n",
            "[nltk_data]    | Downloading package word2vec_sample to\n",
            "[nltk_data]    |     /root/nltk_data...\n",
            "[nltk_data]    |   Package word2vec_sample is already up-to-date!\n",
            "[nltk_data]    | Downloading package wordnet to /root/nltk_data...\n",
            "[nltk_data]    |   Package wordnet is already up-to-date!\n",
            "[nltk_data]    | Downloading package wordnet2021 to /root/nltk_data...\n",
            "[nltk_data]    |   Package wordnet2021 is already up-to-date!\n",
            "[nltk_data]    | Downloading package wordnet2022 to /root/nltk_data...\n",
            "[nltk_data]    |   Package wordnet2022 is already up-to-date!\n",
            "[nltk_data]    | Downloading package wordnet31 to /root/nltk_data...\n",
            "[nltk_data]    |   Package wordnet31 is already up-to-date!\n",
            "[nltk_data]    | Downloading package wordnet_ic to /root/nltk_data...\n",
            "[nltk_data]    |   Package wordnet_ic is already up-to-date!\n",
            "[nltk_data]    | Downloading package words to /root/nltk_data...\n",
            "[nltk_data]    |   Package words is already up-to-date!\n",
            "[nltk_data]    | Downloading package ycoe to /root/nltk_data...\n",
            "[nltk_data]    |   Package ycoe is already up-to-date!\n",
            "[nltk_data]    | \n",
            "[nltk_data]  Done downloading collection all\n"
          ]
        }
      ],
      "source": [
        "import nltk\n",
        "nltk.download('all')\n",
        "from nltk.corpus import stopwords\n",
        "\n",
        "from nltk.tokenize import word_tokenize\n",
        "\n",
        "from nltk.stem import WordNetLemmatizer\n",
        "\n",
        "import matplotlib.pyplot as plt\n",
        "import re\n",
        "import numpy as np\n"
      ]
    },
    {
      "cell_type": "code",
      "source": [
        "import pandas as pd\n",
        "data = pd.read_csv('/content/sample_data/post_yellowknife_evacuation - Sheet1.csv')\n",
        "print(data.head())"
      ],
      "metadata": {
        "colab": {
          "base_uri": "https://localhost:8080/"
        },
        "id": "x_kGzzRhsG8p",
        "outputId": "99ae2343-4926-4d55-d441-b21006674a35"
      },
      "execution_count": 21,
      "outputs": [
        {
          "output_type": "stream",
          "name": "stdout",
          "text": [
            "                                           poster  \\\n",
            "0                       Yellowknife House Sitting   \n",
            "1       Yellowknife's Rants & Raves 2.0 (Rated E)   \n",
            "2  Families With Pets Evacuating Yellowknife 2023   \n",
            "3                                      Gracie Ann   \n",
            "4                                  Alannah Monica   \n",
            "\n",
            "                                             Content  Likes & loves  \\\n",
            "0  H here!i became a full-time housesitter as of ...           66.0   \n",
            "1  Are evacuation insurance claims will result in...            2.0   \n",
            "2  Hey folks, a number of crates were loaned out ...            4.0   \n",
            "3  Volunteers preparing food hampers Edit! These ...            NaN   \n",
            "4  Thank you guys for the concern on the Yellowkn...           66.0   \n",
            "\n",
            "      comments       shares  \n",
            "0  21 comments     2 shares  \n",
            "1  28 comments     2 shares  \n",
            "2   2 comments     5 shares  \n",
            "3  57 comments    24 shares  \n",
            "4  15 comments  15 comments  \n"
          ]
        }
      ]
    },
    {
      "cell_type": "code",
      "source": [
        "print(data['Likes & loves'].isna().sum())\n",
        "print(data['poster'].isna().sum())"
      ],
      "metadata": {
        "colab": {
          "base_uri": "https://localhost:8080/"
        },
        "id": "J6ug-zt76-jC",
        "outputId": "2c91888d-5049-479b-a4f6-57bfba3be6bf"
      },
      "execution_count": null,
      "outputs": [
        {
          "output_type": "stream",
          "name": "stdout",
          "text": [
            "20\n",
            "4\n"
          ]
        }
      ]
    },
    {
      "cell_type": "code",
      "source": [
        "# fillna values for likes & loves column and poster column using iloc function\n",
        "data.iloc[:, 3:4] = data.iloc[:, 3:4].fillna(0)\n",
        "data.iloc[:, 0:1] = data.iloc[:, 0:1].fillna('Anonymous')\n",
        "print(data.iloc[:, 3:4].isna().sum())\n",
        "print(data.iloc[:, 5:6].isna().sum())"
      ],
      "metadata": {
        "colab": {
          "base_uri": "https://localhost:8080/"
        },
        "outputId": "fc0ffd64-0a20-40b7-b097-220a3ce500f5",
        "id": "0qxDJ1rNxpg3"
      },
      "execution_count": 22,
      "outputs": [
        {
          "output_type": "stream",
          "name": "stdout",
          "text": [
            "comments    0\n",
            "dtype: int64\n",
            "Series([], dtype: float64)\n"
          ]
        }
      ]
    },
    {
      "cell_type": "code",
      "source": [
        "# prompt: remove special characters using regular expressions in python\n",
        "\n",
        "import re\n",
        "\n",
        "# Remove special characters from the 'Text' column\n",
        "data['Text'] = data['Text'].apply(lambda x: re.sub(r'[^a-zA-Z\\s]', '', x))\n",
        "\n",
        "# Print the updated DataFrame\n",
        "print(data.head())\n"
      ],
      "metadata": {
        "id": "H03WYNimy_sF"
      },
      "execution_count": null,
      "outputs": []
    },
    {
      "cell_type": "code",
      "source": [
        "def preprocess_text(text):\n",
        "\n",
        "    # Tokenize the text\n",
        "\n",
        "    tokens = word_tokenize(text.lower())\n",
        "\n",
        "\n",
        "\n",
        "\n",
        "    # Remove stop words\n",
        "\n",
        "    filtered_tokens = [token for token in tokens if token not in stopwords.words('english')]\n",
        "\n",
        "\n",
        "\n",
        "\n",
        "    # Lemmatize the tokens\n",
        "\n",
        "    lemmatizer = WordNetLemmatizer()\n",
        "\n",
        "    lemmatized_tokens = [lemmatizer.lemmatize(token) for token in filtered_tokens]\n",
        "\n",
        "\n",
        "\n",
        "\n",
        "    # Join the tokens back into a string\n",
        "\n",
        "    processed_text = ' '.join(lemmatized_tokens)\n",
        "\n",
        "    return processed_text"
      ],
      "metadata": {
        "id": "0Uqhhi4eGi9A"
      },
      "execution_count": 24,
      "outputs": []
    },
    {
      "cell_type": "code",
      "source": [
        "data['Content'] = data['Content'].apply(preprocess_text)\n",
        "data['Content'] = data['Content'].apply(lambda x: re.sub(r'[^a-zA-Z\\s]', '', x))\n",
        "corpus = [i for i in data['Content']]\n",
        "print(corpus)"
      ],
      "metadata": {
        "colab": {
          "base_uri": "https://localhost:8080/"
        },
        "id": "yG5vkcJKs1Ly",
        "outputId": "3efe714c-8ab2-4d9e-db1a-32278a333f31"
      },
      "execution_count": 30,
      "outputs": [
        {
          "output_type": "stream",
          "name": "stdout",
          "text": [
            "['h  became fulltime housesitter august st  evacuation taking lot time   looking continue long possible current availability   see', 'evacuation insurance claim result increased policy premium renewal  deductables  would good list answer various insurer ', 'hey folk  number crate loaned yellowknife evacuation return information written  anyone need returned edmonton  people hoping get crate back  please post help organize return trip  everyone', 'volunteer preparing food hamper edit  hamper rae resident  hamper planned place help rae resident lost grocery evacuation due power outagesthese hamper already planned started yellowknife evacuation happened ', 'thank guy concern yellowknife evacuationi m happy re thinking  clarify though  edmonton closer yellowknife   hour drive  u   hour drive   see', ' put together timeline experience evacuation wanted share publicly know others shared concern unhoused community member   critical moment timeline  find full detail website  http  wwwykwscapostykwsevacuationstory', 'yellowknife evacuation summer  stayed behind essential worker ', 'many know autumn trip cancelled due threat wildfire yellowknife evacuation capital city  much looking forward hosting providing extraordinary experience lodge fall sorry unfortunate need cancel trip  please note lodge wildfire threat  yellowknife evacuation impact business office  logistical operation  yellowknif see', 'incredible event happening yellowknife northwest territory right  largest evacuation one place canada s history   people required leave noon friday  fire expected city s edge friday night  first evacuation flight canada force hercules military transport plane starting today  glad mary got yesterday  visiting nikki fam week  supposed stay friday  westjet arranged put mary o see', 'sorry everyone   taking photo hope everyone staying safe   yellowknifeevacuation  yellowknifephotographer', 'yellowknife fire evacuation drove behchoko  home town  tented brother david gon    year since  home  fish  caribou meat tea amazing  grateful brother family host  made new friend oreo securityfamily dog finally warmed  best friend    mahsi cho behchoko   yellowknife  behchoko  nwt  evacuation  yzf  yellowknifeevacuation', 'ok yellowknife evacuation  housed relative  year cat couple weeksthey safely return yellowknife  asked generously donate item somebody rescued cat desperately need airdrie  would like pay forward    thank everyone scoop  bowl   disposable litter box  litter scoop left ', 'amazed work put protecting maintaining city  volunteer pulling bin sidewalk collection  team yzf hard dehcho blvd  sprinkler system set  constant water bombersevacuees  take care  look may separated spouse partner  miss ca nt wait back home   proudofthiscity  evacuation  wildfire', 'helpful set image learn experience yellowknife woman society s program participant yellowknife evacuation ', 'serviceusers spoken ykws staff evacuation experience  agreed share part story  spoke  see', 'wildfire continue spread  seeing influx displaced wildlife entering city search safety  stay safe  stay vigilant  keep eye furry friend    explorerhotel  yellowknife  wildlife  evacuation  safety  wildlifeprotection  wildfire', 'home sweet home  surreal coming back  seeing continued smouldering ground driving smoke charred forest  emotional say least  take time  settle  back home   grateful back  thanks involved fighting fire keeping city safe  check hiccup  reaction approached home sooo sweet   we stopped along way several time  turned aro see', 'note  yellowknife evacuation order  information help prepareone biggest concern hearing pet evacuation  attached help plan  also say  based seen evacuation  vehicle take animal  worth preplanned solution  recommend finding community member willing take pet vehicleit better overly prepare see', 'yellowknife evacuation information air evacuation resident option leave area road asked register evacuation flights resident immunocompromised condition put higher risk severe outcome encouraged register flight soon possible due intensifying smoke region air evacuation scheduled begin pm thursday  august    see', 'well  season ending earlier expected  evacuation yellowknife due threat forest fire  season cut short   guest staff evacuated calgary right  thanks summit air helping get organized   try next year  good luck yellowknife  stay safe   plummersexperience  nwtfires  summitair  sixgreatweeks', 'must missing yellowknife since yellowknife painting  another view pilot s monument air tindi drought  hotel room edmonton  yellowknife still evacuated seems situation hopeful need bide timeafter much scrounging supply around city put together enough paint get trying timesthank goodness art   see', 'made yellowknife safely  wishing safe evacuation everyone forced leave nwt  wishing safe week ahead amazing ppl still community helping save home  photo cred amazing shannon moore also got safely   nwt  yellowknife  yellowknifenwtcanada  evacuation  yzf  yellowknifeevacuation', 'journey yellowknife calgary evacuation   forestfire', 'rare facebook update  getting lot message believe   even worse texting right normal  know  know   response  shiri left yellowknife  morning last night weekend scary driving fort simpson yellowknife  drove night day today headed parent calgary  expected arrive late tonight  pm evening   see', 'slide   water bomber flying city yellowknife  plane carry water flame retardant dump wildfire le km outside yellowknife    slide   people lining gasoline yellowknife  evacuation order announced later evening    slide   line car outside town fort providence  nwt  waiting gasoline  territory large sparsely populated  th see', 'behchokyellowknife fire  zf  held  evacuation order remains effect  said  inching closer welcoming resident home  planning safe reentry begun  information found  http  wwwyellowknifeca  yellowknifepreparingfor ', ' burningplanet  globalboiling  yellowknifeevacuationour brother nwt  serious trouble  yellowknife resident ordered begin evacuating city immediately wildfire approach  nwt  official announced wednesday evening  extraordinary evacuation order affect nearly  people  phased evacuation order effect province  premier caroline cochrane call situation unprecedented  go cbc  ca  fb  permit  see', 'yesterday session took opportunity ask minister thompson city yellowknife evacuation order issued gnwt exactly occurred rapid hour period state emergency issued order made   nwtpoli  opennwt  question  cityofyellowknife  evacuation', ' city yellowknife issuing evacuation alert area city real potential threat public safety due behchokoyellowknife wildfire  zf  the evacuation alert following area   kam lake grace lake see', 'city yellowknife issuing evacuation alert area city real potential threat public safety due behchokoyell see', 'rant mary brown  get got back evacuation stuff  sure came back fruit fly bug  problem  open public ', 'day  evacuation yellowknife   quite adventure  balance stress displaced  finding accommodation  michaeland taking turn trying work remotely also trying worry kid make feel like adventure  grateful city edmonton support  accessed many different activity free reduced cost recognize privilege able navigate system  see', 'hiccup companion yellowknife evacuation   made bearable    grateful came life last september pray pet  people course   made safe sound reunited family soon  i  peace river  ab one night today  red deer  ab couple night humboldt  sk parent thank much gracious welcome  see', 'canada  posted reuters article yellowknife evacuation  see post  thailand article ', 'yellowknife evacuation  trouble accessing government northwest territory webpage read evacuation order  picture order  also access link  http  wwwgovntca  evacuationorderyellowknife ', 'summer house empty  sure survived   adult   kid   large dog one roof week  yellowknifeevacuation  yellowknifeevacuees  nwtstrong  friendslikefamily', 'reached minister eccmaca evacuation plan yellowknife many asked  ve pointed back city  found website  http  wwwyellowknifecacityofyellowknifeemergency ', 'hope help  today rain  today yzf staff focused getting highway clear brush cut stacked  attended volunteer meeting awesome attendance individual ready support various contractor involved protecting city  pretty good day ended rainbow  hope thing getting better   wildfire  evacuation  airportlife', ' respect pricing  posting social medium fare elevated   air canada say   correct proactively earliest possible time  put place cap limit fare air canada  direct flight yellowknife  ', 'thank city yellowknife unforgettable experience already cancelled trip hearing devasting  wildfire north  relentless effort government  city managed get bring back people  week evacuation order  thanks jestine family showing around  ll back soon check northern light tour', 'city yellowknife issuing evacuation alert area city real potential threat public safety due behchokoyellowknife wildfire  zf  the evacuation alert following area   revised  kam lake industrial area  previously said kam lake   grace lake see', 'hi behchoko  m reporter cbc north m hoping hear people s experience grocery yellowknife s evacuation  anyone able share shelf looking please send dm  thanks ', 'go bitchute  type yellowknife evacuation search bar  click video say  massive complex canary island wildfire  unrelated stuff sit thru  plus m sure guy say  mention bit chute rather negative way  s partly correct  bit chute find anti jewish type video   must say believe jew   s far deep complex   jewish   see', 'breaking news  massive wildfire force  yellowknife resident evacuate  yellowknife  city canada s northwest territory  facing apocalyptic inferno  raging wildfire threatens safety  resident  leading mass evacuation  urgent situation life stake  t see', 'yellowknife currently threat wildfire  event evacuation ever required portion yellowknife  city would follow evacuation framework  http  wwwyellowknifecacityofyellowknifeemergency ', 'hey yellowknife  know facebook news ban s hard access share reliable information  wanted pa find cbc northnwt onlinewe ve made page link radio  web  tv news  http  www  cbc canewscanadanorthcommunityyellowknifeevacuation  delete space   see', ' evacuation alert  yellowknife activating state emergency due heavy wildfire ', 'yellowknife resident kam lake  grace lake engle business district advised prepared evacuate short notice due wildfire area  need evacuate  order issued  please register household using evacuee registration portal http  wwwgovntcaenformevac  information visit http  wwwyellowknifeca  cityofyellowknifeissues  http  wwwfacebookcomouryellowk see', 'government treat homeless people  imagine jim pillen riding around hour homeless guy make sure homeless community safely evacuated fire  caroline cochrane governor want ', 'finally finished painting  started evacuating  illusory start day since beautiful without smoke inkling premonition dangerwell pm looked like apocalypse  near ice road dettah  nearby community yellowknife  winter  never yellowknife day seen water level low   sandhill crane came stayed h see', 'yellowknife evacuation ', 'yellowknife evacuation  oh  canada ', 'yellowknife evacuation  yellowknife evacuation order currently  please follow direction listed northwest territory website http  wwwgovntcaenpublicsafety safe everyone   see', ' people forced flee yellowknife road air evacuation order came force aug  due encroaching wildfire', 'today  home  yellowknife s evacuation order lifted city alert  evacuated four week tomorrow many u travelling next two week  important remember folk ingraham trail outside yellowknife  enterprise  fort smith  k  atl  odeeche first nation  hay river surrounding area remain evacuated  still need donation  support  kindness effort coming week  see', 'light wildfire evacuation  city yellowknife announced would penalty fee unpaid property tax utility charge  several month passed  penalty reinstated unpaid tax utility charge january    information found  http  wwwyellowknifeca  reinstatingpenaltiesfor ', ' able creating anything long stay safe everyone   yellowknifeevacuation', 'gwenan decided revisit vlogging vlog return yellowknife three week evacuation  hope informative nt live yk ', ' yellowknife evacuation order finally lifted  allowing resident return home week away due wildfire  significant moment community sense normalcy slowly return  yellowknife s mayor rebecca atly commented positive development  stating relieved hear child laughing three long week  return resident take time may logistical challenge along way   see', 'yellowknife order evacuation  resident record wildfire continue devastate canada', 'resident yellowknife evacuated due wildfire told start planning return home ', ' resident yellowknife nearby first nation finally getting good news amidst chaos caused wildfire  forced evacuate home  told able return early september th  long risk wildfire nt increase  announcement brought sense relief affected community  people eagerly counting day go back home ', 'latest information yellowknife evacuation effort  pm aug  available www  nnsl  com', 'yellowknife evacuation  decision nwt authority evacuate capital fire risk could taken lightly  cbc reporter kept stressing need panic sure resident reservation   driving yellowknife safety like driving toronto montreal  said  say  november  four u  lil pregnant wife  michelle six year old daughter   see', 'northwest territory worked closely shelter yellowknife make sure people brought evacuation centre  premier say', 'ellie rivera s grandparent housing evacuee south slave  yearold yellowknifer decided wanted something help   raised   brighten day kid yellowknife evacuation centre ', 'comprehensive coverage hour yellowknife evacuation get update wildfire moment take live airport people waiting flight yellowknife s mayor urging anyone still city get nt evacuated yet please highway open s subject change time want ensure everybody s safety fire approaching s fire i see', 'canada  yellowknife evacuation deadline nears amid scramble flight latest news comment storycommentraging wildfire british columbia forced widespread evacuation order friday  thousand resident city yellowknife took road airport flee capital canada  northwest territoriesofficials declared state emergency overnight kelowna  city  resident located  mile east vancouver  well ', 'resident yellowknife nearby first nation evacuated week due wildfire told start planning return home  beginning wednesday ', 'evacuation flight yesterday yellowknife  nwt ', 'nwt evacuee use substance edmontonhere resource   additionally  harm reduction supply well  nwtevacuation  yellowknifeevacuation  evacuationresources  harmreduction  nwtevacuees', 'resident yellowknife evacuated due wildfire told start planning return home ', 'wildfire forced evacuation yellowknife  capital canada  northwest territoriesofficials territorial government told resident highestrisk area evacuate immediatelymore  active fire burning across canada  control see', 'canada deploy armed force british columbia tackle fastspreading fire reutersyellowknife resident wonder wildfire new normal western canada burn nprfirefighters curb blaze threatening  city western canada not wood yet  politico see', ' made adjustment deh cho bridge declare finished    dehchobridge  sunnyday  yellowknifeevacuation  mackenzierivercanada  bridgeovertroubledwater  northwestterritories', 'election season  version black life matter riot  arsonist setting wildfire blaming global warming  got ta something  raise gas price  spend fed money  dem motto    let crisis go waste  use opportunity reshape country toward socialist goal  ', 'discover meta s news ban canada yellowknife wildfire impacting critical information sharing resilience shine ', 'yellowknife northwest territory premier caroline cochrane social worker entering politics  territory ordered everyone capital leave last week due encroaching wildfire  said checked make sure homeless people nt forgotten   heart s people  ve worked field  year   cochrane told online news conference firefighting effort weekend  asked governmen see', 'mining worker forced evacuate yellowknife amid wildfire menaceexplorers  miner nw territory prioritize staff safety yellowknife evacuation mandated due encroaching wildfiresterritorial minister environment climate change minister municipal community affair shane thompson issued order news conference wednesday night  saying resident yellowknife  ndilo  dettah along ingraham trail must leave noon friday see', 'yellowknife evacuation  trudeau liberal mull farright game plan   ccp influencesheila gunn reid adam soos live daily roundup   air every weekday  pm et am mt ', 'latest information yellowknife evacuation  pm aug  available www  nnsl  com', 'another poem yellowknife evacuation experience  wrote one contest allpoetry ', 'official scheduled share detail press conference today lifting evacuation order yellowknife dene first nation  resident two community may able return home early sept   threat wildfire subsides ', ' yellowknife evacuation  need know threat wildfire reaching outskirt yellowknife weekend loomed  northwest territory government ordered   full evacuation   capital   wednesday night    aim  resident   noon friday    government   website   containing information resident might need ', ' yellowknife prepares homecoming evacuation order lift  enduring week uncertainty displacement  resident yellowknife finally see light end tunnel  today noon  threeweek evacuation order forced  people flee home due encroaching wildfire lifted  anticipation homecoming  thousand vehicle expected travel yellowknife coming day ', '  evacuated home yellowknife  staying hotel family  parent staying hall well   everyone else staying hotel evacuation  getting letter since got  slide door   see', 'hope help  today rain  today yzf staff focused getting highway clear brush cut stacked  attended volunteer mee see', 'behalf wittlinger  maundsveinsson family  would like give big shout community fort providence  people nothing gracious kind evacuation yellowknife  made lot lasting memory camping nothing gratitude community  delicious free meal accommodation  friendly face beautiful soul met  including lot fellow yellowknifers    see', 'think need take serious look treated alberta evacuated yellowknife maybe rethink offer evacuation service yellowknife  people often come yellowknife evacuation part territory wondering treated good yellowknife alberta  idea offered hotel room meal like received give cot big room   see', 'rant personal insuranceafter  year loyalty  forced evacuation get  deductible waiver  day wait period place claim  guess  looking new insurance provider  vehicle house  suggestion  personal', 'like everyone evacuation  lived stress forced make decision never thought would make  earth person suppose deal offered five meal day reality really accommodate three  even though time manage somehow fit five schedule  even begin explain turmoil needing decide pancake sausage breakfast one location another p see', 'anyone heard able get contact gpu  waiting delivery since evacuation able get response month ', 'prayer resident yellowknife nwtthey mandatory evacuation  resident must leave tomorrow noonan extremely dangerous route highway  edmonton  hour away  trip probably double time   see', 'yellowknife south office open public next little bit lounge fairfield inn suite calgary  sarah found evac city momentcome chat u   nwtfire  nwtpoli  opennwt  evacuation  yksouth', 'yellowknife woman s society share spruce bough resident  woman s centre resident evacuated charter  arranged special transportation accomodations extra support participant  currently yellowknife en route  want apologize family member friend wondering worrying  staff working around clock coordinate transportation  care  support du see', 'helpful timeline learn experience yellowknife woman society s program participant yellowknife evacuationthe lack support gnwt jump page ', ' put together timeline experience evacuation wanted share publicly know others shared concern unhoused com see', ' trying support local small business christmas season  especially supported staff community evacuation  thanks wesclean yellowknife making even easier decision great service selection  mr eieio excited mop head ', 'surreal experience lifting yellowknife smoke  yk airport skeleton crew  screener security  landed vancouver  escorted secure personnelbus directly pick luggage  lot airport employee medium greeting u  grateful get yk safely  en route leg  evacuation plan calgary  mahsi']\n"
          ]
        }
      ]
    },
    {
      "cell_type": "code",
      "source": [
        "from sklearn.feature_extraction.text import CountVectorizer\n",
        "from sklearn.feature_extraction.text import TfidfTransformer\n",
        "from sklearn.decomposition import LatentDirichletAllocation as LDA\n",
        "from nltk.corpus import stopwords"
      ],
      "metadata": {
        "id": "HwJUxxB4vk6f"
      },
      "execution_count": 31,
      "outputs": []
    },
    {
      "cell_type": "code",
      "source": [
        "count_vect = CountVectorizer(stop_words=stopwords.words('english'), lowercase=True)\n",
        "x_counts = count_vect.fit_transform(corpus)\n",
        "x_counts.todense()\n",
        "print(count_vect.get_feature_names_out())"
      ],
      "metadata": {
        "colab": {
          "base_uri": "https://localhost:8080/"
        },
        "id": "7e_k3fZFvvzV",
        "outputId": "de662b94-0f63-4922-b7c8-5fa545ae6a05"
      },
      "execution_count": 32,
      "outputs": [
        {
          "output_type": "stream",
          "name": "stdout",
          "text": [
            "['ab' 'able' 'access' ... 'ykws' 'yzf' 'zf']\n"
          ]
        }
      ]
    },
    {
      "cell_type": "code",
      "source": [
        "tfidf_transformer = TfidfTransformer()\n",
        "x_tfidf = tfidf_transformer.fit_transform(x_counts)"
      ],
      "metadata": {
        "id": "Ue774n_wzv7F"
      },
      "execution_count": 33,
      "outputs": []
    },
    {
      "cell_type": "code",
      "source": [
        "dimension = 5\n",
        "lda = LDA(n_components = dimension)\n",
        "lda_array = lda.fit_transform(x_tfidf)\n",
        "print(lda_array)"
      ],
      "metadata": {
        "colab": {
          "base_uri": "https://localhost:8080/"
        },
        "id": "3wPATdOXz5Oy",
        "outputId": "da21f2e5-3f1b-42a6-abaa-58860de93eff"
      },
      "execution_count": 34,
      "outputs": [
        {
          "output_type": "stream",
          "name": "stdout",
          "text": [
            "[[0.83488965 0.04128797 0.04128135 0.04109635 0.04144468]\n",
            " [0.04185558 0.04180539 0.83250671 0.04187365 0.04195866]\n",
            " [0.85488584 0.03639944 0.03642293 0.03611921 0.03617257]\n",
            " [0.04344119 0.04287815 0.04294847 0.04319628 0.82753591]\n",
            " [0.04515523 0.81996969 0.04511644 0.0449485  0.04481015]\n",
            " [0.035966   0.03584924 0.85627418 0.03587169 0.0360389 ]\n",
            " [0.05834053 0.05831156 0.05863665 0.05827322 0.76643805]\n",
            " [0.03097963 0.03088569 0.8764932  0.03075212 0.03088936]\n",
            " [0.02824831 0.02804797 0.0286948  0.887287   0.02772191]\n",
            " [0.05147387 0.05140918 0.79487576 0.05126516 0.05097602]\n",
            " [0.03148186 0.03126612 0.03111944 0.03122936 0.87490322]\n",
            " [0.03310647 0.03221676 0.03277288 0.86963858 0.0322653 ]\n",
            " [0.0295461  0.02874724 0.88410688 0.02872197 0.02887779]\n",
            " [0.04776399 0.04773641 0.80916489 0.04764129 0.04769341]\n",
            " [0.04668182 0.81301816 0.04689564 0.04680021 0.04660418]\n",
            " [0.03840877 0.03759572 0.03820279 0.84801996 0.03777276]\n",
            " [0.03067509 0.88041944 0.02974135 0.02950276 0.02966136]\n",
            " [0.87554488 0.03102168 0.03119532 0.03103658 0.03120154]\n",
            " [0.03200805 0.8737226  0.03189428 0.03090506 0.03147001]\n",
            " [0.8791185  0.03008926 0.03049503 0.03021773 0.03007948]\n",
            " [0.02877531 0.88535544 0.02895169 0.02843571 0.02848185]\n",
            " [0.0348966  0.03421247 0.03444175 0.03402684 0.86242234]\n",
            " [0.73101289 0.06709894 0.06756545 0.0669885  0.06733422]\n",
            " [0.02887151 0.02883418 0.02883428 0.02898249 0.88447754]\n",
            " [0.87466699 0.03129886 0.03143407 0.03125583 0.03134426]\n",
            " [0.85729472 0.03555872 0.03594711 0.03545654 0.03574291]\n",
            " [0.88782652 0.02808582 0.02808414 0.02798852 0.02801501]\n",
            " [0.03475479 0.03470706 0.03504128 0.86033604 0.03516084]\n",
            " [0.039338   0.03920424 0.84301655 0.03917802 0.03926319]\n",
            " [0.04428283 0.04414758 0.82324265 0.04411293 0.04421402]\n",
            " [0.83372806 0.0416395  0.04189944 0.04135442 0.04137858]\n",
            " [0.02937686 0.88285414 0.02933938 0.02925986 0.02916976]\n",
            " [0.02981048 0.88042579 0.02972214 0.0301031  0.02993848]\n",
            " [0.77398686 0.05645334 0.05676098 0.05637716 0.05642167]\n",
            " [0.8373021  0.04022847 0.04175636 0.0403385  0.04037457]\n",
            " [0.04109995 0.04059009 0.83716276 0.04045356 0.04069365]\n",
            " [0.04291081 0.04281638 0.04373291 0.04270512 0.82783478]\n",
            " [0.0297896  0.02959567 0.02982615 0.88115779 0.02963079]\n",
            " [0.85209333 0.03718666 0.0370762  0.03677877 0.03686503]\n",
            " [0.03128454 0.03128706 0.03121639 0.03087142 0.87534059]\n",
            " [0.03792549 0.03782965 0.84859145 0.03779755 0.03785586]\n",
            " [0.0371984  0.85129871 0.03730952 0.03700922 0.03718414]\n",
            " [0.879797   0.03002153 0.03009689 0.03006022 0.03002436]\n",
            " [0.03487341 0.0342148  0.03558353 0.03399079 0.86133747]\n",
            " [0.04230756 0.04219769 0.83083588 0.04225906 0.04239981]\n",
            " [0.03282475 0.03281375 0.03360584 0.86760123 0.03315442]\n",
            " [0.05397309 0.05347554 0.05486237 0.05342312 0.78426589]\n",
            " [0.03144247 0.03116603 0.87500702 0.03117044 0.03121405]\n",
            " [0.04058674 0.03949975 0.03953599 0.84126346 0.03911407]\n",
            " [0.02932099 0.02917408 0.02883848 0.88351543 0.02915102]\n",
            " [0.08451815 0.08381432 0.66424502 0.08325982 0.08416269]\n",
            " [0.07417006 0.07334065 0.70588269 0.07323443 0.07337217]\n",
            " [0.04161593 0.04118593 0.83482299 0.04115565 0.0412195 ]\n",
            " [0.04567102 0.82037159 0.04468427 0.04434857 0.04492455]\n",
            " [0.88660222 0.02793727 0.02897776 0.02819511 0.02828764]\n",
            " [0.03780937 0.03771115 0.03792842 0.03761931 0.84893174]\n",
            " [0.78754294 0.0532597  0.05326402 0.05302692 0.05290642]\n",
            " [0.82921474 0.04254626 0.04273875 0.04281413 0.04268611]\n",
            " [0.88553715 0.02860941 0.02862777 0.02857752 0.02864816]\n",
            " [0.78490745 0.05363117 0.05409399 0.053637   0.05373039]\n",
            " [0.80144223 0.04962538 0.04975332 0.04950982 0.04966925]\n",
            " [0.88482099 0.02875653 0.02882121 0.02878517 0.02881611]\n",
            " [0.04829021 0.04831492 0.04840659 0.0481869  0.80680139]\n",
            " [0.0289055  0.02883284 0.88486061 0.02868322 0.02871783]\n",
            " [0.04453788 0.04431883 0.82327323 0.04397016 0.0438999 ]\n",
            " [0.84906525 0.03765469 0.03796462 0.03770066 0.03761477]\n",
            " [0.88073171 0.02980378 0.03000568 0.02969236 0.02976648]\n",
            " [0.02851796 0.02867073 0.88563228 0.02840475 0.02877429]\n",
            " [0.83505208 0.04119845 0.04127832 0.04118433 0.04128682]\n",
            " [0.06714375 0.73279314 0.06706452 0.06630946 0.06668913]\n",
            " [0.83875573 0.04039785 0.04030928 0.04025026 0.04028688]\n",
            " [0.80144223 0.04962538 0.04975332 0.04950982 0.04966925]\n",
            " [0.03803437 0.03703063 0.85087381 0.03698713 0.03707406]\n",
            " [0.86052144 0.03482704 0.03496983 0.03475329 0.03492839]\n",
            " [0.04386397 0.04368407 0.04385247 0.82477873 0.04382075]\n",
            " [0.02937855 0.88309127 0.02915419 0.0292051  0.02917089]\n",
            " [0.04616828 0.81714274 0.04611725 0.04519029 0.04538145]\n",
            " [0.02920331 0.88458362 0.02934035 0.02832706 0.02854566]\n",
            " [0.02700111 0.02683933 0.02694355 0.02702114 0.89219487]\n",
            " [0.03565717 0.0357229  0.85736498 0.0353928  0.03586215]\n",
            " [0.0502547  0.05027668 0.05041478 0.05015394 0.7988999 ]\n",
            " [0.05285477 0.78836828 0.05324077 0.05271366 0.05282252]\n",
            " [0.03647289 0.03447758 0.03474616 0.03422293 0.86008044]\n",
            " [0.0343033  0.03408352 0.86322159 0.03406784 0.03432375]\n",
            " [0.03444354 0.03145791 0.03166298 0.87079826 0.0316373 ]\n",
            " [0.04361061 0.82831038 0.04279304 0.04269019 0.04259579]\n",
            " [0.04011117 0.03990551 0.03993463 0.84013481 0.03991387]\n",
            " [0.02970145 0.02974256 0.02975095 0.02969609 0.88110894]\n",
            " [0.03278077 0.03227816 0.8710724  0.03193921 0.03192946]\n",
            " [0.03622763 0.03607615 0.03620928 0.03612672 0.85536022]\n",
            " [0.88759503 0.02826112 0.02815539 0.02803208 0.02795639]\n",
            " [0.04690672 0.81356665 0.04646825 0.0464081  0.04665028]\n",
            " [0.85411514 0.03658104 0.03640948 0.03643757 0.03645677]\n",
            " [0.03541281 0.03483105 0.85979915 0.03491402 0.03504296]\n",
            " [0.87783619 0.03035827 0.03113199 0.03029781 0.03037575]\n",
            " [0.041648   0.04153038 0.83367629 0.04167128 0.04147404]\n",
            " [0.04217385 0.04232427 0.83085206 0.04213757 0.04251225]\n",
            " [0.03331653 0.03333112 0.03329499 0.86686469 0.03319266]\n",
            " [0.03114139 0.031086   0.0310427  0.03089974 0.87583016]]\n"
          ]
        }
      ]
    },
    {
      "cell_type": "code",
      "source": [
        "components = [lda.components_[i] for i in range(len(lda.components_))]\n",
        "features = count_vect.get_feature_names_out()\n",
        "important_words = [sorted(features, key = lambda x: components[j][np.where(features == x)[0][0]], reverse = True)[:3] for j in range(len(components))]\n",
        "print(important_words)"
      ],
      "metadata": {
        "colab": {
          "base_uri": "https://localhost:8080/"
        },
        "id": "vy9nqF7sz9Mb",
        "outputId": "5d290cd5-d150-4a50-c596-9710d8f3d674"
      },
      "execution_count": 39,
      "outputs": [
        {
          "output_type": "stream",
          "name": "stdout",
          "text": [
            "[['resident', 'return', 'yellowknife'], ['yellowknife', 'evacuation', 'able'], ['evacuation', 'yellowknife', 'city'], ['today', 'homeless', 'yellowknife'], ['yellowknife', 'evacuation', 'available']]\n"
          ]
        }
      ]
    }
  ]
}